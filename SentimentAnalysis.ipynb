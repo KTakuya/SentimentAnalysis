{
 "cells": [
  {
   "cell_type": "markdown",
   "metadata": {},
   "source": [
    "## 感情分析モデル\n",
    "<div style=\"font-size:1.2em; color:green; margin:20px\">\n",
    "    テキストの内容がネガティブ・ポジティブ・ニュートラルか判別します。<br>\n",
    "    入力：英文テキスト<br>\n",
    "    出力：感情分類\n",
    "<div>"
   ]
  },
  {
   "cell_type": "code",
   "execution_count": 1,
   "metadata": {},
   "outputs": [],
   "source": [
    "\"\"\"\n",
    "必要なライブラリをインストール\n",
    " tesorflow 2.3.9\n",
    " numpy 1.20.1\n",
    " keras 2.4.3\n",
    "\"\"\"\n",
    "import matplotlib.pyplot as plt\n",
    "import numpy as np\n",
    "from keras import layers\n",
    "import os\n",
    "import tensorflow as tf\n",
    "from keras.preprocessing import text, sequence\n",
    "import csv\n",
    "import random\n",
    "import pandas as pd"
   ]
  },
  {
   "cell_type": "code",
   "execution_count": 2,
   "metadata": {},
   "outputs": [
    {
     "name": "stdout",
     "output_type": "stream",
     "text": [
      "['How unhappy  some dogs like it though', 'Bells gone to daddies for to  days Work  work work for me unhappy ', ' firing underway', 'Enjoy happy']\n",
      "[0, 0, 1, 2]\n"
     ]
    }
   ],
   "source": [
    "\"\"\"\n",
    "データセット取得 \n",
    " kaggle Shanshank Yadav氏のPre-processed Twitter tweetsを使用させていただく。\n",
    " ラベルはNegative(0) Positive(2) Neutral(1)の３分類\n",
    " https://www.kaggle.com/shashank1558/preprocessed-twitter-tweets\n",
    "\n",
    "\"\"\"\n",
    "x_datas = []\n",
    "y_datas = []\n",
    "\n",
    "# オリジナルのデータセットは分類ごとのCSVに分割されている\n",
    "# 必要に応じてパスを変更する\n",
    "neg_datas = pd.read_csv('../processedNegative.csv', engine=\"python\")\n",
    "for elem in neg_datas.columns:\n",
    "    x_datas.append(elem.replace(\".\",\"\"))\n",
    "    y_datas.append(0)\n",
    "\n",
    "neu_datas = pd.read_csv('../processedNeutral.csv', engine=\"python\")\n",
    "for elem in neu_datas.columns:\n",
    "    x_datas.append(elem.replace(\".\",\"\"))\n",
    "    y_datas.append(1)\n",
    "\n",
    "pos_datas = pd.read_csv('../processedPositive.csv', engine=\"python\")\n",
    "for elem in pos_datas.columns:\n",
    "    x_datas.append(elem.replace(\".\",\"\"))\n",
    "    y_datas.append(2)\n",
    "    \n",
    "# データは結合されていることを確認\n",
    "print(x_datas[0:10000:1000])\n",
    "print(y_datas[0:10000:1000])\n"
   ]
  },
  {
   "cell_type": "code",
   "execution_count": 3,
   "metadata": {},
   "outputs": [],
   "source": [
    "\"\"\"\n",
    "データセットを訓練データとテストデータに分割（7:3）\n",
    "\"\"\"\n",
    "from sklearn.model_selection import train_test_split\n",
    "\n",
    "# 訓練データ：テストデータを7:3に分割\n",
    "X_train, X_test, Y_train, Y_test = train_test_split(\n",
    "    x_datas, y_datas, \n",
    "    test_size=0.3, random_state=0\n",
    ")\n"
   ]
  },
  {
   "cell_type": "code",
   "execution_count": 4,
   "metadata": {},
   "outputs": [
    {
     "name": "stdout",
     "output_type": "stream",
     "text": [
      "Govt mulls giving power to award to teachers \n",
      "[82, 1194, 472, 836, 1, 1195, 1, 837]\n",
      "Excited about event next week in Bangalore!  come happy\n",
      "[673, 73, 674, 174, 79, 5, 1984, 255, 3]\n",
      "Goodnight I love these beautiful boys unhappy  \n",
      "[1196, 6, 51, 290, 329, 473, 2]\n",
      "[   0    0    0    0    0    0    0    0    0    0    0    0    0    0\n",
      "    0    0    0    0    0    0    0    0    0    0    0    0    0    0\n",
      "    0    0    0    0    0    0    0    0    0    0    0    0    0    0\n",
      "    0    0    0    0    0    0    0    0    0    0    0    0    0    0\n",
      "    0    0    0    0    0    0    0    0    0    0    0    0    0    0\n",
      "    0    0    0    0    0    0    0    0    0    0    0    0    0    0\n",
      "    0    0    0    0    0    0    0    0    0    0    0    0    0    0\n",
      "    0    0    0    0    0    0    0    0    0    0    0    0    0    0\n",
      "    0    0    0    0    0    0    0    0    0    0    0    0    0    0\n",
      "    0    0    0    0    0    0    0    0    0    0    0    0    0    0\n",
      "    0    0    0    0    0    0    0    0    0    0    0    0   82 1194\n",
      "  472  836    1 1195    1  837]\n",
      "<class 'numpy.ndarray'>\n"
     ]
    }
   ],
   "source": [
    "\"\"\"\n",
    "テキストをトークン化する\n",
    "String to INT\n",
    "\"\"\"\n",
    "\n",
    "from keras.preprocessing.text import Tokenizer\n",
    "from keras.preprocessing.sequence import pad_sequences\n",
    "\n",
    "# テキストの最大長を取得\n",
    "# 今回はLSTMの入力を固定長にするため\n",
    "max_len = max(map(len, x_datas))\n",
    "\n",
    "# トークン化\n",
    "tokenizer = Tokenizer()\n",
    "tokenizer.fit_on_texts(X_train)\n",
    "x_train = tokenizer.texts_to_sequences(X_train)\n",
    "x_test = tokenizer.texts_to_sequences(X_test)\n",
    "\n",
    "for text, vector in zip(X_train[0:3], x_train[0:3]):\n",
    "    print(text)\n",
    "    print(vector)\n",
    "    \n",
    "# 固定長ゼロパディング\n",
    "x_train = pad_sequences(x_train, maxlen=max_len)\n",
    "x_test = pad_sequences(x_test, maxlen=max_len)\n",
    "\n",
    "print(x_train[0])\n",
    "print(type(x_train))"
   ]
  },
  {
   "cell_type": "code",
   "execution_count": 5,
   "metadata": {},
   "outputs": [],
   "source": [
    "\"\"\"\n",
    "正解データをone-hotベクトル化\n",
    "\"\"\"\n",
    "from keras.utils import np_utils\n",
    "\n",
    "y_train = np.array(Y_train, dtype=int)\n",
    "y_train = np_utils.to_categorical(y_train) \n",
    "y_test = np.array(Y_test, dtype=int)\n",
    "y_test = np_utils.to_categorical(y_test) "
   ]
  },
  {
   "cell_type": "code",
   "execution_count": 6,
   "metadata": {},
   "outputs": [
    {
     "name": "stdout",
     "output_type": "stream",
     "text": [
      "Model: \"sequential\"\n",
      "_________________________________________________________________\n",
      "Layer (type)                 Output Shape              Param #   \n",
      "=================================================================\n",
      "embedding (Embedding)        (None, None, 32)          170880    \n",
      "_________________________________________________________________\n",
      "lstm (LSTM)                  (None, 16)                3136      \n",
      "_________________________________________________________________\n",
      "dense (Dense)                (None, 3)                 51        \n",
      "=================================================================\n",
      "Total params: 174,067\n",
      "Trainable params: 174,067\n",
      "Non-trainable params: 0\n",
      "_________________________________________________________________\n"
     ]
    }
   ],
   "source": [
    "\"\"\"\n",
    "学習モデルの構築\n",
    "\"\"\"\n",
    "\n",
    "from keras.models import Sequential\n",
    "from keras.layers import LSTM, Dense, Embedding, Dropout\n",
    "from keras.optimizers import RMSprop\n",
    "\n",
    "vocabulary_size = len(tokenizer.word_index) + 1  \n",
    "\n",
    "model = Sequential()\n",
    "\n",
    "model.add(Embedding(input_dim=vocabulary_size, output_dim=32))   # Embbedding層ではトークン化されたテキストをベクトル化する\n",
    "model.add(LSTM(16, return_sequences=False, dropout=0.5))  #　すぐ過学習しがちなのでドロップアウトを入れる\n",
    "model.add(Dense(3, activation='softmax'))   # ３値分類のためsoftmax関数を使用 \n",
    "\n",
    "model.compile(loss='categorical_crossentropy', optimizer='rmsprop', metrics=['accuracy'])   # RMSpropが学習しやすそう\n",
    "\n",
    "model.summary()"
   ]
  },
  {
   "cell_type": "code",
   "execution_count": 7,
   "metadata": {},
   "outputs": [
    {
     "name": "stdout",
     "output_type": "stream",
     "text": [
      "Epoch 1/10\n",
      "85/85 [==============================] - 4s 46ms/step - loss: 1.0054 - accuracy: 0.4983 - val_loss: 0.8717 - val_accuracy: 0.7358\n",
      "Epoch 2/10\n",
      "85/85 [==============================] - 4s 41ms/step - loss: 0.7081 - accuracy: 0.7857 - val_loss: 0.5897 - val_accuracy: 0.8503\n",
      "Epoch 3/10\n",
      "85/85 [==============================] - 3s 40ms/step - loss: 0.4766 - accuracy: 0.8731 - val_loss: 0.4271 - val_accuracy: 0.8623\n",
      "Epoch 4/10\n",
      "85/85 [==============================] - 3s 39ms/step - loss: 0.3293 - accuracy: 0.8997 - val_loss: 0.3370 - val_accuracy: 0.8847\n",
      "Epoch 5/10\n",
      "85/85 [==============================] - 3s 40ms/step - loss: 0.2494 - accuracy: 0.9163 - val_loss: 0.2981 - val_accuracy: 0.8898\n",
      "Epoch 6/10\n",
      "85/85 [==============================] - 4s 42ms/step - loss: 0.2065 - accuracy: 0.9273 - val_loss: 0.2943 - val_accuracy: 0.8924\n",
      "Epoch 7/10\n",
      "85/85 [==============================] - 4s 41ms/step - loss: 0.1740 - accuracy: 0.9343 - val_loss: 0.2732 - val_accuracy: 0.8924\n",
      "Epoch 8/10\n",
      "85/85 [==============================] - 3s 40ms/step - loss: 0.1527 - accuracy: 0.9458 - val_loss: 0.2761 - val_accuracy: 0.8985\n",
      "Epoch 9/10\n",
      "85/85 [==============================] - 3s 40ms/step - loss: 0.1335 - accuracy: 0.9509 - val_loss: 0.2689 - val_accuracy: 0.8993\n",
      "Epoch 10/10\n",
      "85/85 [==============================] - 3s 40ms/step - loss: 0.1184 - accuracy: 0.9598 - val_loss: 0.2732 - val_accuracy: 0.9002\n"
     ]
    }
   ],
   "source": [
    "\n",
    "# 学習\n",
    "history = model.fit(\n",
    "    x_train, y_train, batch_size=32, epochs=10,\n",
    "    validation_data=(x_test, y_test)\n",
    ")"
   ]
  },
  {
   "cell_type": "code",
   "execution_count": null,
   "metadata": {},
   "outputs": [],
   "source": []
  },
  {
   "cell_type": "code",
   "execution_count": 8,
   "metadata": {},
   "outputs": [
    {
     "data": {
      "image/png": "[encoded data removed]",
      "text/plain": [
       "<Figure size 432x288 with 1 Axes>"
      ]
     },
     "metadata": {
      "needs_background": "light"
     },
     "output_type": "display_data"
    },
    {
     "data": {
      "image/png": "[encoded data removed]",
      "text/plain": [
       "<Figure size 432x288 with 1 Axes>"
      ]
     },
     "metadata": {
      "needs_background": "light"
     },
     "output_type": "display_data"
    }
   ],
   "source": [
    "from matplotlib import pyplot as plt\n",
    "\n",
    "# 精度のplot\n",
    "plt.plot(history.history['accuracy'], marker='.', label='acc')\n",
    "plt.plot(history.history['val_accuracy'], marker='.', label='val_acc')\n",
    "plt.title('model accuracy')\n",
    "plt.grid()\n",
    "plt.xlabel('epoch')\n",
    "plt.ylabel('accuracy')\n",
    "plt.legend(loc='best')\n",
    "plt.show()\n",
    "\n",
    "# 損失のplot\n",
    "plt.plot(history.history['loss'], marker='.', label='loss')\n",
    "plt.plot(history.history['val_loss'], marker='.', label='val_loss')\n",
    "plt.title('model loss')\n",
    "plt.grid()\n",
    "plt.xlabel('epoch')\n",
    "plt.ylabel('loss')\n",
    "plt.legend(loc='best')\n",
    "plt.show()"
   ]
  },
  {
   "cell_type": "code",
   "execution_count": 9,
   "metadata": {
    "scrolled": false
   },
   "outputs": [
    {
     "name": "stdout",
     "output_type": "stream",
     "text": [
      "P A text\n",
      "1 2 The one with backward cap\n",
      "1 0 all ready for its poster - when my computer gets\n",
      "1 0 WUUT SERIOUSLY? \n",
      "2 0 It seems they cost abut 40k a year? I'm paying half that for my full education and don't get treat \n",
      "1 2 we finally got jinyoung to wipe it for jaebum himself but their precious son blocks it for the world to witness it\n",
      "1 2 Perfect\n",
      "2 0 oh\n",
      "1 0 Sorry for no stream yesterday\n",
      "0 2 Okay\n",
      "0 1 In stone-pelters miss Mehbooba's brother but he gets the message \n",
      "1 0 Note to self: Dont get to attached crying \n",
      "2 0 there are some rumors going around and videos of his performances on youtube have already been deleted \n",
      "2 0 Yeah \n",
      "2 0  never mind Khushi\n",
      "2 1 In this part of UP\n",
      "2 1 If you don't actually live then honesty and integrity won't be embraced\n",
      "0 1 | I can understand the state ohf mind ohf ji right nohw Hence\n",
      "1 0  but no sign\n",
      "1 2  wifi\n",
      "2 1  too hot\n",
      "2 1 These will be ready long before winners are named \n",
      "2 0 We'd love to\n",
      "0 2 you know what i really love about you lot?not only do you support me in the comments\n",
      "2 0 For those asking\n",
      "2 0 This is what we have in front of us\n",
      "2 0 Im just having one of those days where instant message like\n",
      "2 1  then that's no living at all\n",
      "0 2 In case you missed it\n",
      "2 1 Some Indian politicians still need this lucky charm -- a campaign bus \n",
      "2 0 You know what really upsets me? When a stranger on the internet isn't satisfied with the entertainment I provide him for\n",
      "0 2 I hate people who steal my ideas\n",
      "2 0 Goodnight princess\n",
      "1 2 Tara\n",
      "1 0 freebet any sport except total mkets on handball\n",
      "1 2  instead of just money\n",
      "1 2 KissWard tagline:tweet with us Pans :)NoOneCanSTOP KissWard\n",
      "0 2 PLEASE THIS BEAUTIFUL PRINCESS HAVE YOUR HELP\n",
      "2 1 Hardest interview of my life\n",
      "2 1 This resort is hosting 120-odd lawmakers now in camp \n",
      "0 2 I have tested all sweet dishes but they are not as sweet as my lovers lips :)MARVOREE MagpasikatOnShowtime\n",
      "2 0 younhappy  I'll keep it jyoust for you\n",
      "1 2 No stress Mariana\n",
      "2 0 I do it for 5/6 times a week leh sad  and yes closing is damn fuck opening so much better\n",
      "1 2 Awesome recommendation Jess! Listened to the\n",
      "0 1 Why you could miss your flight out of Bangalore \n",
      "1 0 Youngjae during fansign on 04/10/17 constantly massaging his back Clearly something wrong but pretended he was not\n",
      "1 2 Beetle done and joins Wall-E\n",
      "1 0  unfortunately\n",
      "1 0 MUZ U MORE\n",
      "2 0 and i would never forget about you!! \n",
      "1 2 13 Reasons Why producers: we care about youth mental health :)13RW producers: *show young audience graphic rape and suicide s\n",
      "2 0 Being a parent is very challenging If we cannot control ourselves we'll give the worst output to the children In other word\n",
      "2 0 Hi Julie\n",
      "2 1  earlier\n",
      "1 0 Golly gosh This is simply dreadful What havoc must be wreaking subsurface? Black salve won't \n",
      "2 1 Corrected Thanks\n",
      "2 0 Hi Aled\n",
      "1 2 2nd Cousin Vlad !!!!! maybe thats a message from the Hockey G\n",
      "2 0  shameful business :(Stop paying giant corporations for foods you just don't need wake up people plea \n",
      "1 2 CSGOBOUNTY GIVEAWAY - 1 random KEY 25 RETWEETS\n",
      "1 2  friendly service\n",
      "1 2 Yes1\n",
      "1 0 beauty \n",
      "1 0 Shameful\n",
      "1 2 to WIN draw for free download of for Celebrate with us Developed by for\n",
      "1 0  he'll kil \n",
      "2 1 Fake Exit Poll results are being circulated using ABP News' brand name We want to clarify that we haven't aired any exit piss off\n",
      "1 2 Nitpicking\n",
      "1 0 Aseek \n",
      "2 0 i don't like their songs after debyout younhappy  so i can syouggest yoyou jyoust one song i really love\n",
      "0 2 People who don%27t know me always think I am quiet People who do know me wish I was :)KISSES TheFashionIcon\n",
      "1 0 Claaaaaaaaaaaaasse ! \n",
      "2 0 Hi instant message your friend  friend lang\n",
      "2 1  if required\n",
      "1 2 stay cool \n",
      "1 2 Well1\n",
      "0 2 Someone asked me Hows life? I just smiled and replied\n",
      "1 2 we finally got jinyoung to wipe it for jaebum himself but their precious son blocks it for the world to witness it1\n",
      "0 2 that I said \n",
      "0 2 Just delivered my Managing the Online Customer Journey keynote at the Autodesk Partner Event Incredible event\n",
      "1 0 only take season 9 off \n",
      "1 2  find out more and sign up at\n",
      "2 0 he could be whatever\n",
      "2 1 In this mandate\n",
      "2 0 4/20 today\n",
      "2 1 Unruly behaviour and violence on our aviation network is regrettable Each such incident will be investigated and appropri\n",
      "2 0 Unnamed: 938\n",
      "2 1 Unnamed: 431\n",
      "1 2  rather\n",
      "2 0 :'(( well\n",
      "1 0 and he's still taking over a quarter of the billboard charts while x is\n",
      "2 0 did some warm up sketches of some of my faves\n",
      "1 2 Here is a new thesis by another geniusSir\n",
      "2 0  let alone for free!)\n",
      "0 2  try the front door\n",
      "2 0  2010 Week 11\n",
      "1 2   and totally of\n",
      "1 2 The Bank Job\n",
      "1 2 Friday after the conference some of us will go for dinner to favourite smile\n",
      "1 2 If school has taught us anything\n",
      "1 2 But\n",
      "1 2 Follow  to a Saga diary and a year's worth of Saga pens :)TCs\n",
      "1 0 shouldn't keep Kenyans complaining on \n",
      "0 2 Again as I said I do see your concerns But I assure you sir that Hinduism will stay Dharma and will no\n",
      "2 0 crying  We're getting VM soon wooo\n",
      "2 1  day\n",
      "2 1 Hiring people for a task in which they have an edge \n",
      "2 0 Yeah did update to 1604 \n",
      "1 2 True! U can waste a day in social media and reading websites On the other hand\n",
      "2 0 Ah alright\n",
      "2 1 It was the day of left-arm turners\n",
      "0 2 We don%27t spam him in any way\n",
      "1 2 Still live!\n",
      "1 0 Shaandaar\n",
      "1 0  Nick? Might he deliver WHEN the time demands it Story of his life - \n",
      "2 0 Ok will do! I never had any problems with the old ticket app\n"
     ]
    }
   ],
   "source": [
    "\"\"\"\n",
    "不正解データを表示\n",
    "P：予測値\n",
    "A:正解値\n",
    "\"\"\"\n",
    "pre = model.predict(x_test)\n",
    "print(\"P A text\")\n",
    "for i,v in enumerate(pre):\n",
    "    pre_ans = v.argmax()\n",
    "    ans = y_test[i].argmax()\n",
    "    dat = X_test[i]\n",
    "    if ans == pre_ans: continue\n",
    "    print(pre_ans, ans, dat)"
   ]
  },
  {
   "cell_type": "code",
   "execution_count": 10,
   "metadata": {
    "scrolled": true
   },
   "outputs": [
    {
     "name": "stdout",
     "output_type": "stream",
     "text": [
      "2\n"
     ]
    }
   ],
   "source": [
    "# 検証\n",
    "# input_textに190文字以下の英文を入力する\n",
    "\n",
    "input_text = [\"It's good sunny today! \"]\n",
    "input_text = tokenizer.texts_to_sequences(input_text)\n",
    "input_text = pad_sequences(input_text, maxlen=max_len)\n",
    "pre = model.predict(input_text)\n",
    "pre_ans = pre.argmax()\n",
    "print(pre_ans)"
   ]
  },
  {
   "cell_type": "code",
   "execution_count": null,
   "metadata": {},
   "outputs": [],
   "source": []
  },
  {
   "cell_type": "code",
   "execution_count": null,
   "metadata": {},
   "outputs": [],
   "source": []
  },
  {
   "cell_type": "code",
   "execution_count": null,
   "metadata": {},
   "outputs": [],
   "source": []
  },
  {
   "cell_type": "code",
   "execution_count": null,
   "metadata": {},
   "outputs": [],
   "source": []
  },
  {
   "cell_type": "code",
   "execution_count": null,
   "metadata": {},
   "outputs": [],
   "source": []
  },
  {
   "cell_type": "code",
   "execution_count": null,
   "metadata": {},
   "outputs": [],
   "source": []
  },
  {
   "cell_type": "code",
   "execution_count": null,
   "metadata": {},
   "outputs": [],
   "source": []
  },
  {
   "cell_type": "code",
   "execution_count": null,
   "metadata": {},
   "outputs": [],
   "source": []
  },
  {
   "cell_type": "code",
   "execution_count": null,
   "metadata": {},
   "outputs": [],
   "source": []
  },
  {
   "cell_type": "code",
   "execution_count": null,
   "metadata": {},
   "outputs": [],
   "source": []
  },
  {
   "cell_type": "code",
   "execution_count": null,
   "metadata": {},
   "outputs": [],
   "source": []
  },
  {
   "cell_type": "code",
   "execution_count": null,
   "metadata": {},
   "outputs": [],
   "source": []
  },
  {
   "cell_type": "code",
   "execution_count": null,
   "metadata": {},
   "outputs": [],
   "source": []
  },
  {
   "cell_type": "code",
   "execution_count": null,
   "metadata": {
    "scrolled": true
   },
   "outputs": [],
   "source": []
  },
  {
   "cell_type": "code",
   "execution_count": null,
   "metadata": {},
   "outputs": [],
   "source": []
  },
  {
   "cell_type": "code",
   "execution_count": null,
   "metadata": {},
   "outputs": [],
   "source": []
  },
  {
   "cell_type": "code",
   "execution_count": null,
   "metadata": {},
   "outputs": [],
   "source": []
  },
  {
   "cell_type": "code",
   "execution_count": null,
   "metadata": {},
   "outputs": [],
   "source": []
  },
  {
   "cell_type": "code",
   "execution_count": null,
   "metadata": {},
   "outputs": [],
   "source": []
  },
  {
   "cell_type": "code",
   "execution_count": null,
   "metadata": {},
   "outputs": [],
   "source": []
  },
  {
   "cell_type": "code",
   "execution_count": null,
   "metadata": {},
   "outputs": [],
   "source": []
  },
  {
   "cell_type": "code",
   "execution_count": null,
   "metadata": {},
   "outputs": [],
   "source": []
  },
  {
   "cell_type": "code",
   "execution_count": null,
   "metadata": {},
   "outputs": [],
   "source": []
  },
  {
   "cell_type": "code",
   "execution_count": null,
   "metadata": {},
   "outputs": [],
   "source": []
  },
  {
   "cell_type": "code",
   "execution_count": null,
   "metadata": {},
   "outputs": [],
   "source": []
  },
  {
   "cell_type": "code",
   "execution_count": null,
   "metadata": {},
   "outputs": [],
   "source": []
  }
 ],
 "metadata": {
  "kernelspec": {
   "display_name": "Python 3",
   "language": "python",
   "name": "python3"
  },
  "language_info": {
   "codemirror_mode": {
    "name": "ipython",
    "version": 3
   },
   "file_extension": ".py",
   "mimetype": "text/x-python",
   "name": "python",
   "nbconvert_exporter": "python",
   "pygments_lexer": "ipython3",
   "version": "3.7.10"
  }
 },
 "nbformat": 4,
 "nbformat_minor": 2
}
